{
 "cells": [
  {
   "cell_type": "code",
   "execution_count": null,
   "id": "0",
   "metadata": {},
   "outputs": [],
   "source": [
    "import numpy as np\n",
    "import pandas as pd\n",
    "from truncated_gaussian import truncated_gaussian\n",
    "import matplotlib.pyplot as plt\n",
    "from scipy.stats import norm as normal_dbn\n",
    "\n",
    "level = 0.9\n",
    "Q = normal_dbn.ppf(1 - (1 - level) / 2)\n",
    "Q"
   ]
  },
  {
   "cell_type": "code",
   "execution_count": null,
   "id": "1",
   "metadata": {},
   "outputs": [],
   "source": [
    "spec = pd.DataFrame({'left':[-5, 2., 11],\n",
    "                     'right':[-3, 6, np.inf],\n",
    "                     'weights':[0.1, 0.8, 0.1]})\n",
    "spec"
   ]
  },
  {
   "cell_type": "code",
   "execution_count": null,
   "id": "2",
   "metadata": {},
   "outputs": [],
   "source": [
    "TG = truncated_gaussian(left=spec['left'], right=spec['right'], weights=spec['weights'])"
   ]
  },
  {
   "cell_type": "markdown",
   "id": "3",
   "metadata": {},
   "source": [
    "## Behavior of the CI in different parts of the support"
   ]
  },
  {
   "cell_type": "code",
   "execution_count": null,
   "id": "4",
   "metadata": {},
   "outputs": [],
   "source": [
    "i = 0\n",
    "def make_intervals(spec, i):\n",
    "    if np.isfinite(spec['left'][i]):\n",
    "        L = spec['left'][i] + 0.01\n",
    "    else:\n",
    "        L = spec['right'][i] - 5\n",
    "    if np.isfinite(spec['right'][i]):\n",
    "        R = spec['right'][i] - 0.01\n",
    "    else:\n",
    "        R = spec['left'][i] + 5\n",
    "    xval = np.linspace(L, R, 50)\n",
    "    I = np.array([TG.equal_tailed_interval(x, level=0.9) for x in xval])\n",
    "    return xval, I"
   ]
  },
  {
   "cell_type": "code",
   "execution_count": null,
   "id": "5",
   "metadata": {},
   "outputs": [],
   "source": [
    "fig, ax = plt.subplots(figsize=(8,8))\n",
    "for i, c in enumerate(['r', 'g', 'b']):\n",
    "    xv, I = make_intervals(spec, i)\n",
    "    ax.plot(xv, I[:,0], c=c)\n",
    "    ax.plot(xv, I[:,1], c=c)\n",
    "ax.axhline(0, c='k', linewidth=2)\n",
    "ax.axline([0, 0], c='k', ls='--', slope=1)\n",
    "ax.axline([0, Q], c='gray', slope=1, label='Nominal')\n",
    "ax.axline([0, -Q], c='gray', slope=1)\n",
    "ax.set_ylim([-10,15])\n",
    "ax.legend()\n",
    "ax.set_title('Confidence intervals (90%) for truncated Gaussian specified by `spec` above')"
   ]
  },
  {
   "cell_type": "code",
   "execution_count": null,
   "id": "6",
   "metadata": {},
   "outputs": [],
   "source": [
    "fig, ax = plt.subplots(figsize=(8,8))\n",
    "for i, c in enumerate(['r', 'g', 'b']):\n",
    "    xv, I = make_intervals(spec, i)\n",
    "    ax.plot(xv, I[:,1] - I[:,0], c=c)\n",
    "ax.axhline(0, c='k', linewidth=2)\n",
    "ax.set_title('Length of confidence intervals (90%) for truncated Gaussian specified by `spec` above')\n",
    "ax.axhline(2*Q, c='gray', label='Nominal')\n",
    "ax.legend()\n",
    "ax.set_ylim([0, 5 * Q])"
   ]
  },
  {
   "cell_type": "code",
   "execution_count": null,
   "id": "7",
   "metadata": {},
   "outputs": [],
   "source": []
  }
 ],
 "metadata": {
  "kernelspec": {
   "display_name": "Python 3 (ipykernel)",
   "language": "python",
   "name": "python3"
  },
  "language_info": {
   "codemirror_mode": {
    "name": "ipython",
    "version": 3
   },
   "file_extension": ".py",
   "mimetype": "text/x-python",
   "name": "python",
   "nbconvert_exporter": "python",
   "pygments_lexer": "ipython3",
   "version": "3.11.8"
  }
 },
 "nbformat": 4,
 "nbformat_minor": 5
}
